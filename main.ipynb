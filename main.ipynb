{
 "cells": [
  {
   "cell_type": "markdown",
   "metadata": {},
   "source": [
    "# First Checkpoint - 09.12.2022"
   ]
  },
  {
   "cell_type": "markdown",
   "metadata": {},
   "source": [
    "Add all dependencies"
   ]
  },
  {
   "cell_type": "code",
   "execution_count": 1,
   "metadata": {},
   "outputs": [],
   "source": [
    "import string\n",
    "from dataclasses import dataclass\n",
    "\n",
    "import pandas as pd\n",
    "import numpy as np\n",
    "\n",
    "from pathlib import Path\n",
    "import wta.helpers\n",
    "from wta.main import run\n",
    "\n",
    "import matplotlib.pyplot as plt\n",
    "\n",
    "from estimate_start_times.concurrency_oracle import HeuristicsConcurrencyOracle\n",
    "from estimate_start_times.config import Configuration"
   ]
  },
  {
   "cell_type": "markdown",
   "metadata": {},
   "source": [
    "Define `EventLogIDs` data class"
   ]
  },
  {
   "cell_type": "code",
   "execution_count": 2,
   "metadata": {},
   "outputs": [],
   "source": [
    "@dataclass\n",
    "class EventLogIDs:\n",
    "    case: str = 'case_id'\n",
    "    activity: str = 'Activity'\n",
    "    enabled_time: str = 'enabled_time'\n",
    "    start_time: str = 'start_time'\n",
    "    end_time: str = 'end_time'\n",
    "    resource: str = 'Resource'\n",
    "    log_id: str = 'source_log'\n",
    "    cluster_id: str = 'cluster_id'"
   ]
  },
  {
   "cell_type": "markdown",
   "metadata": {},
   "source": [
    "Function to read event log from csv"
   ]
  },
  {
   "cell_type": "code",
   "execution_count": 3,
   "metadata": {},
   "outputs": [],
   "source": [
    "def read_event_log(log_path: str, log_ids: EventLogIDs) -> pd.DataFrame:\n",
    "    event_log = pd.read_csv(log_path)\n",
    "    event_log[log_ids.start_time] = pd.to_datetime(event_log[log_ids.start_time], utc=True)\n",
    "    event_log[log_ids.end_time] = pd.to_datetime(event_log[log_ids.end_time], utc=True)\n",
    "    event_log[log_ids.resource].fillna(\"NOT_SET\", inplace=True)\n",
    "    event_log[log_ids.resource] = event_log[log_ids.resource].astype(\"string\")\n",
    "    return event_log"
   ]
  },
  {
   "cell_type": "markdown",
   "metadata": {},
   "source": [
    "Add enablement times function"
   ]
  },
  {
   "cell_type": "code",
   "execution_count": 4,
   "metadata": {},
   "outputs": [],
   "source": [
    "def add_enablement_times(event_log: pd.DataFrame, log_ids: EventLogIDs):\n",
    "    # Set up default configuration\n",
    "    configuration = Configuration(\n",
    "        log_ids=log_ids,  # Custom the column IDs with this parameter\n",
    "        consider_start_times=True  # Consider real parallelism if the start times are available\n",
    "    )\n",
    "    # Instantiate desired concurrency oracle\n",
    "    concurrency_oracle = HeuristicsConcurrencyOracle(event_log, configuration)\n",
    "    # Add enablement times to the event log\n",
    "    concurrency_oracle.add_enabled_times(event_log)"
   ]
  },
  {
   "cell_type": "markdown",
   "metadata": {},
   "source": [
    "Get Activity mapping"
   ]
  },
  {
   "cell_type": "code",
   "execution_count": 5,
   "metadata": {},
   "outputs": [],
   "source": [
    "def get_activity_mapping(event_log: pd.DataFrame, log_ids: EventLogIDs):\n",
    "    characters = string.printable\n",
    "    activities = set(event_log[log_ids.activity].unique())\n",
    "    # Check if there are enough characters to map all activities\n",
    "    if len(activities) > len(characters):\n",
    "        raise RuntimeError(\n",
    "            \"Not enough characters ({}) to map all activities ({}) when clustering by activity sequence!\".format(\n",
    "                len(characters),\n",
    "                len(activities)\n",
    "            )\n",
    "        )\n",
    "    # Return activity-character mapping\n",
    "    return {activity: characters[index] for index, activity in enumerate(activities)}\n"
   ]
  },
  {
   "cell_type": "markdown",
   "metadata": {},
   "source": [
    "Function to cluster traces"
   ]
  },
  {
   "cell_type": "code",
   "execution_count": 6,
   "metadata": {},
   "outputs": [],
   "source": [
    "def cluster_traces(event_log: pd.DataFrame, log_ids: EventLogIDs):\n",
    "    # Get the mapping from activity to character\n",
    "    mapping = get_activity_mapping(event_log, log_ids)\n",
    "    # Define mapping from sequence to case IDs\n",
    "    clusters = {}\n",
    "    # For each case, map the activities to character sequence\n",
    "    for (case_id, log_id), events in event_log.groupby([log_ids.case, log_ids.log_id]):\n",
    "        sorted_events = events.sort_values([log_ids.end_time, log_ids.start_time])\n",
    "        activity_sequence = \"\".join([mapping[activity] for activity in sorted_events[log_ids.activity]])\n",
    "        if activity_sequence in clusters:\n",
    "            if log_id in clusters[activity_sequence]:\n",
    "                clusters[activity_sequence][log_id] += [case_id]\n",
    "            else:\n",
    "                clusters[activity_sequence][log_id] = [case_id]\n",
    "        else:\n",
    "            clusters[activity_sequence] = {log_id: [case_id]}\n",
    "    # Set cluster ID column for each cluster\n",
    "    cluster_id = 0\n",
    "    for cluster in clusters:\n",
    "        for log_id in clusters[cluster]:\n",
    "            event_log.loc[\n",
    "                (event_log[log_ids.log_id] == log_id) & (event_log[log_ids.case].isin(clusters[cluster][log_id])),\n",
    "                log_ids.cluster_id\n",
    "            ] = cluster_id\n",
    "        cluster_id += 1\n"
   ]
  },
  {
   "cell_type": "markdown",
   "metadata": {},
   "source": [
    "# Main pipeline"
   ]
  },
  {
   "cell_type": "code",
   "execution_count": 7,
   "metadata": {},
   "outputs": [],
   "source": [
    "default_log_ids = EventLogIDs()\n",
    "event_log_1_path = \"data/Loan_Application_Estonia.csv.gz\"\n",
    "event_log_2_path = \"data/Loan_Application_Spain.csv.gz\"\n",
    "\n",
    "event_log_1 = read_event_log(event_log_1_path, default_log_ids)\n",
    "event_log_2 = read_event_log(event_log_2_path, default_log_ids)\n",
    "\n",
    "# Retain only the columns I'm interested on\n",
    "event_log_1 = event_log_1[[\n",
    "    default_log_ids.case,\n",
    "    default_log_ids.activity,\n",
    "    default_log_ids.start_time,\n",
    "    default_log_ids.end_time,\n",
    "    default_log_ids.resource\n",
    "]]\n",
    "event_log_2 = event_log_2[[\n",
    "    default_log_ids.case,\n",
    "    default_log_ids.activity,\n",
    "    default_log_ids.start_time,\n",
    "    default_log_ids.end_time,\n",
    "    default_log_ids.resource\n",
    "]]"
   ]
  },
  {
   "cell_type": "code",
   "execution_count": 7,
   "metadata": {},
   "outputs": [],
   "source": []
  },
  {
   "cell_type": "markdown",
   "metadata": {},
   "source": [
    "Compute enablement time for each log"
   ]
  },
  {
   "cell_type": "code",
   "execution_count": 8,
   "metadata": {},
   "outputs": [
    {
     "name": "stderr",
     "output_type": "stream",
     "text": [
      "c:\\users\\mirjalal\\pycharmprojects\\start-time-estimator\\src\\estimate_start_times\\concurrency_oracle.py:147: FutureWarning: In a future version of pandas, a length 1 tuple will be returned when iterating over a groupby with a grouper equal to a list of length 1. Don't supply a list with a single grouper to avoid this warning.\n",
      "  for (key, trace) in event_log.groupby([config.log_ids.case]):\n",
      "c:\\users\\mirjalal\\pycharmprojects\\start-time-estimator\\src\\estimate_start_times\\concurrency_oracle.py:45: FutureWarning: In a future version of pandas, a length 1 tuple will be returned when iterating over a groupby with a grouper equal to a list of length 1. Don't supply a list with a single grouper to avoid this warning.\n",
      "  for (case_id, trace) in event_log.groupby([self.log_ids.case]):\n",
      "c:\\users\\mirjalal\\pycharmprojects\\start-time-estimator\\src\\estimate_start_times\\concurrency_oracle.py:147: FutureWarning: In a future version of pandas, a length 1 tuple will be returned when iterating over a groupby with a grouper equal to a list of length 1. Don't supply a list with a single grouper to avoid this warning.\n",
      "  for (key, trace) in event_log.groupby([config.log_ids.case]):\n",
      "c:\\users\\mirjalal\\pycharmprojects\\start-time-estimator\\src\\estimate_start_times\\concurrency_oracle.py:45: FutureWarning: In a future version of pandas, a length 1 tuple will be returned when iterating over a groupby with a grouper equal to a list of length 1. Don't supply a list with a single grouper to avoid this warning.\n",
      "  for (case_id, trace) in event_log.groupby([self.log_ids.case]):\n"
     ]
    }
   ],
   "source": [
    "add_enablement_times(event_log_1, default_log_ids)\n",
    "add_enablement_times(event_log_2, default_log_ids)"
   ]
  },
  {
   "cell_type": "markdown",
   "metadata": {},
   "source": [
    "Add extra column to identify the log"
   ]
  },
  {
   "cell_type": "code",
   "execution_count": 9,
   "metadata": {},
   "outputs": [],
   "source": [
    "event_log_1[default_log_ids.log_id] = 'log_1'\n",
    "event_log_2[default_log_ids.log_id] = 'log_2'"
   ]
  },
  {
   "cell_type": "markdown",
   "metadata": {},
   "source": [
    "Concatenate event logs"
   ]
  },
  {
   "cell_type": "code",
   "execution_count": 10,
   "metadata": {},
   "outputs": [],
   "source": [
    "merged_event_log = pd.concat([event_log_1, event_log_2], ignore_index=True)"
   ]
  },
  {
   "cell_type": "markdown",
   "metadata": {},
   "source": [
    "Cluster their traces"
   ]
  },
  {
   "cell_type": "code",
   "execution_count": 11,
   "metadata": {},
   "outputs": [],
   "source": [
    "cluster_traces(merged_event_log, default_log_ids)"
   ]
  },
  {
   "cell_type": "markdown",
   "metadata": {},
   "source": [
    "Compare and analyze"
   ]
  },
  {
   "cell_type": "code",
   "execution_count": 12,
   "metadata": {},
   "outputs": [],
   "source": [
    "filter_column = default_log_ids.log_id\n",
    "filter_value = 'log_1'\n",
    "\n",
    "filtered_event_log = merged_event_log[ merged_event_log[filter_column]== filter_value ]\n"
   ]
  },
  {
   "cell_type": "code",
   "execution_count": 13,
   "metadata": {},
   "outputs": [],
   "source": [
    "alphabet = 'ABCDEFGHIJKLMNOPQRSTUVWXYZ'\n",
    "unique_activity_counter = 0\n",
    "activity_map = {}\n",
    "character_map = {}\n",
    "all_traces = []\n",
    "activity_count = 0\n",
    "trace_count = 0\n",
    "unique_activities = {}\n",
    "unique_traces = {}\n",
    "for cluster_id, cluster_events in filtered_event_log.groupby(default_log_ids.cluster_id):\n",
    "    for source_id, events in cluster_events.groupby(default_log_ids.log_id):\n",
    "        for case_id, activities in events.groupby(default_log_ids.case):\n",
    "            trace_count += 1\n",
    "            current_trace = ''\n",
    "            is_first = True\n",
    "            total_process_time = 0\n",
    "            cycle_time_start = None\n",
    "            cycle_time_end = None\n",
    "            for index, row in activities.iterrows():\n",
    "                activity_count += 1\n",
    "                if is_first:\n",
    "                    is_first = False\n",
    "                    cycle_time_start = row[default_log_ids.start_time]\n",
    "                cycle_time_end = row[default_log_ids.end_time]\n",
    "\n",
    "                if row[default_log_ids.activity] not in activity_map.keys():\n",
    "                    activity_map[row[default_log_ids.activity]] = alphabet[unique_activity_counter]\n",
    "                    character_map[alphabet[unique_activity_counter]] = row[default_log_ids.activity]\n",
    "                    current_trace += alphabet[unique_activity_counter]\n",
    "\n",
    "                    unique_activity_counter += 1\n",
    "                else:\n",
    "                    current_trace += activity_map[row[default_log_ids.activity]]\n",
    "\n",
    "                process_time = row[default_log_ids.end_time] - row[default_log_ids.start_time]\n",
    "                total_process_time = process_time if total_process_time == 0 else process_time + total_process_time\n",
    "\n",
    "                if row[default_log_ids.activity] not in unique_activities.keys():\n",
    "                    unique_activities[row[default_log_ids.activity]] = {\n",
    "                        \"count\": 1,\n",
    "                        \"total_process_time\": process_time\n",
    "                    }\n",
    "                else:\n",
    "                    unique_activities[row[default_log_ids.activity]][\"total_process_time\"] += process_time\n",
    "                    unique_activities[row[default_log_ids.activity]][\"count\"] += 1\n",
    "\n",
    "            if current_trace not in unique_traces.keys():\n",
    "                unique_traces[current_trace] = {\n",
    "                    \"count\": 1,\n",
    "                    \"total_cycle_time\": cycle_time_end - cycle_time_start,\n",
    "                    \"total_process_time\": total_process_time\n",
    "                }\n",
    "            else:\n",
    "                unique_traces[current_trace][\"count\"] += 1\n",
    "                unique_traces[current_trace][\"total_cycle_time\"] += cycle_time_end-cycle_time_start\n",
    "                unique_traces[current_trace][\"total_process_time\"] += process_time\n",
    "\n",
    "for trace in unique_traces.keys():\n",
    "    unique_traces[trace][\"average_cycle_time\"] = unique_traces[trace][\"total_cycle_time\"] / unique_traces[trace][\"count\"]\n",
    "    unique_traces[trace][\"average_process_time\"] = unique_traces[trace][\"total_process_time\"] / unique_traces[trace][\"count\"]\n",
    "    unique_traces[trace][\"cycle_time_efficiency\"] = unique_traces[trace][\"total_cycle_time\"] / unique_traces[trace][\"total_process_time\"]\n",
    "    unique_traces[trace][\"frequency\"] = unique_traces[trace][\"count\"] / trace_count\n",
    "\n",
    "for activity in unique_activities.keys():\n",
    "    unique_activities[activity][\"average_process_time\"] = unique_activities[activity][\"total_process_time\"] / unique_activities[activity][\"count\"]\n",
    "\n"
   ]
  },
  {
   "cell_type": "markdown",
   "source": [
    "# Waiting times"
   ],
   "metadata": {
    "collapsed": false
   }
  },
  {
   "cell_type": "code",
   "execution_count": 19,
   "outputs": [
    {
     "name": "stderr",
     "output_type": "stream",
     "text": [
      "c:\\users\\mirjalal\\pycharmprojects\\start-time-estimator\\src\\estimate_start_times\\concurrency_oracle.py:147: FutureWarning: In a future version of pandas, a length 1 tuple will be returned when iterating over a groupby with a grouper equal to a list of length 1. Don't supply a list with a single grouper to avoid this warning.\n",
      "  for (key, trace) in event_log.groupby([config.log_ids.case]):\n",
      "c:\\users\\mirjalal\\pycharmprojects\\start-time-estimator\\src\\estimate_start_times\\concurrency_oracle.py:45: FutureWarning: In a future version of pandas, a length 1 tuple will be returned when iterating over a groupby with a grouper equal to a list of length 1. Don't supply a list with a single grouper to avoid this warning.\n",
      "  for (case_id, trace) in event_log.groupby([self.log_ids.case]):\n"
     ]
    },
    {
     "name": "stdout",
     "output_type": "stream",
     "text": [
      "\n",
      "--------------------------------------------------------------------------------\n",
      "Batch Analysis\n",
      "--------------------------------------------------------------------------------\n"
     ]
    },
    {
     "name": "stderr",
     "output_type": "stream",
     "text": [
      "C:\\Users\\mirjalal\\PycharmProjects\\ava-core\\venv\\lib\\site-packages\\batch_processing_discovery\\discovery.py:89: FutureWarning: In a future version of pandas, a length 1 tuple will be returned when iterating over a groupby with a grouper equal to a list of length 1. Don't supply a list with a single grouper to avoid this warning.\n",
      "  for batch_id, batch_events in event_log[~pd.isna(event_log[log_ids.batch_id])].groupby([log_ids.batch_id]):\n",
      "C:\\Users\\mirjalal\\PycharmProjects\\ava-core\\venv\\lib\\site-packages\\wta\\helpers.py:259: FutureWarning: In a future version of pandas, a length 1 tuple will be returned when iterating over a groupby with a grouper equal to a list of length 1. Don't supply a list with a single grouper to avoid this warning.\n",
      "  for (batch_key, batch_instance) in batch_events.groupby([log_ids.batch_id]):\n"
     ]
    },
    {
     "name": "stdout",
     "output_type": "stream",
     "text": [
      "Elapsed time: 3.2525601387023926 seconds\n",
      "--------------------------------------------------------------------------------\n"
     ]
    },
    {
     "name": "stderr",
     "output_type": "stream",
     "text": [
      "c:\\users\\mirjalal\\pycharmprojects\\start-time-estimator\\src\\estimate_start_times\\concurrency_oracle.py:147: FutureWarning: In a future version of pandas, a length 1 tuple will be returned when iterating over a groupby with a grouper equal to a list of length 1. Don't supply a list with a single grouper to avoid this warning.\n",
      "  for (key, trace) in event_log.groupby([config.log_ids.case]):\n"
     ]
    },
    {
     "name": "stdout",
     "output_type": "stream",
     "text": [
      "\n",
      "--------------------------------------------------------------------------------\n",
      "Activity Transitions Analysis\n",
      "--------------------------------------------------------------------------------\n",
      "Parallel run: True\n"
     ]
    },
    {
     "name": "stderr",
     "output_type": "stream",
     "text": [
      "Submitting tasks for concurrent execution: 100%|██████████| 1000/1000 [00:24<00:00, 40.98it/s]\n",
      "Waiting for tasks to finish: 100%|██████████| 1000/1000 [00:00<00:00, 37828.10it/s]\n"
     ]
    },
    {
     "name": "stdout",
     "output_type": "stream",
     "text": [
      "Elapsed time: 135.3665850162506 seconds\n",
      "--------------------------------------------------------------------------------\n"
     ]
    },
    {
     "name": "stderr",
     "output_type": "stream",
     "text": [
      "c:\\users\\mirjalal\\pycharmprojects\\start-time-estimator\\src\\estimate_start_times\\concurrency_oracle.py:147: FutureWarning: In a future version of pandas, a length 1 tuple will be returned when iterating over a groupby with a grouper equal to a list of length 1. Don't supply a list with a single grouper to avoid this warning.\n",
      "  for (key, trace) in event_log.groupby([config.log_ids.case]):\n",
      "c:\\users\\mirjalal\\pycharmprojects\\start-time-estimator\\src\\estimate_start_times\\concurrency_oracle.py:45: FutureWarning: In a future version of pandas, a length 1 tuple will be returned when iterating over a groupby with a grouper equal to a list of length 1. Don't supply a list with a single grouper to avoid this warning.\n",
      "  for (case_id, trace) in event_log.groupby([self.log_ids.case]):\n"
     ]
    },
    {
     "name": "stdout",
     "output_type": "stream",
     "text": [
      "\n",
      "--------------------------------------------------------------------------------\n",
      "Batch Analysis\n",
      "--------------------------------------------------------------------------------\n"
     ]
    },
    {
     "name": "stderr",
     "output_type": "stream",
     "text": [
      "C:\\Users\\mirjalal\\PycharmProjects\\ava-core\\venv\\lib\\site-packages\\batch_processing_discovery\\discovery.py:89: FutureWarning: In a future version of pandas, a length 1 tuple will be returned when iterating over a groupby with a grouper equal to a list of length 1. Don't supply a list with a single grouper to avoid this warning.\n",
      "  for batch_id, batch_events in event_log[~pd.isna(event_log[log_ids.batch_id])].groupby([log_ids.batch_id]):\n",
      "C:\\Users\\mirjalal\\PycharmProjects\\ava-core\\venv\\lib\\site-packages\\wta\\helpers.py:259: FutureWarning: In a future version of pandas, a length 1 tuple will be returned when iterating over a groupby with a grouper equal to a list of length 1. Don't supply a list with a single grouper to avoid this warning.\n",
      "  for (batch_key, batch_instance) in batch_events.groupby([log_ids.batch_id]):\n"
     ]
    },
    {
     "name": "stdout",
     "output_type": "stream",
     "text": [
      "Elapsed time: 4.27675199508667 seconds\n",
      "--------------------------------------------------------------------------------\n"
     ]
    },
    {
     "name": "stderr",
     "output_type": "stream",
     "text": [
      "c:\\users\\mirjalal\\pycharmprojects\\start-time-estimator\\src\\estimate_start_times\\concurrency_oracle.py:147: FutureWarning: In a future version of pandas, a length 1 tuple will be returned when iterating over a groupby with a grouper equal to a list of length 1. Don't supply a list with a single grouper to avoid this warning.\n",
      "  for (key, trace) in event_log.groupby([config.log_ids.case]):\n"
     ]
    },
    {
     "name": "stdout",
     "output_type": "stream",
     "text": [
      "\n",
      "--------------------------------------------------------------------------------\n",
      "Activity Transitions Analysis\n",
      "--------------------------------------------------------------------------------\n",
      "Parallel run: True\n"
     ]
    },
    {
     "name": "stderr",
     "output_type": "stream",
     "text": [
      "Submitting tasks for concurrent execution: 100%|██████████| 1000/1000 [00:27<00:00, 36.56it/s]\n",
      "Waiting for tasks to finish: 100%|██████████| 1000/1000 [00:00<00:00, 39917.62it/s]\n"
     ]
    },
    {
     "name": "stdout",
     "output_type": "stream",
     "text": [
      "Elapsed time: 170.01503562927246 seconds\n",
      "--------------------------------------------------------------------------------\n"
     ]
    },
    {
     "name": "stderr",
     "output_type": "stream",
     "text": [
      "C:\\Users\\mirjalal\\PycharmProjects\\ava-core\\venv\\lib\\site-packages\\wta\\main.py:41: SettingWithCopyWarning: \n",
      "A value is trying to be set on a copy of a slice from a DataFrame\n",
      "\n",
      "See the caveats in the documentation: https://pandas.pydata.org/pandas-docs/stable/user_guide/indexing.html#returning-a-view-versus-a-copy\n",
      "  log.sort_values(by=[log_ids.end_time, log_ids.start_time, log_ids.activity], inplace=True)\n",
      "c:\\users\\mirjalal\\pycharmprojects\\start-time-estimator\\src\\estimate_start_times\\concurrency_oracle.py:147: FutureWarning: In a future version of pandas, a length 1 tuple will be returned when iterating over a groupby with a grouper equal to a list of length 1. Don't supply a list with a single grouper to avoid this warning.\n",
      "  for (key, trace) in event_log.groupby([config.log_ids.case]):\n",
      "c:\\users\\mirjalal\\pycharmprojects\\start-time-estimator\\src\\estimate_start_times\\concurrency_oracle.py:45: FutureWarning: In a future version of pandas, a length 1 tuple will be returned when iterating over a groupby with a grouper equal to a list of length 1. Don't supply a list with a single grouper to avoid this warning.\n",
      "  for (case_id, trace) in event_log.groupby([self.log_ids.case]):\n",
      "c:\\users\\mirjalal\\pycharmprojects\\start-time-estimator\\src\\estimate_start_times\\concurrency_oracle.py:63: SettingWithCopyWarning: \n",
      "A value is trying to be set on a copy of a slice from a DataFrame.\n",
      "Try using .loc[row_indexer,col_indexer] = value instead\n",
      "\n",
      "See the caveats in the documentation: https://pandas.pydata.org/pandas-docs/stable/user_guide/indexing.html#returning-a-view-versus-a-copy\n",
      "  event_log.loc[indexes, self.log_ids.enabled_time] = enabled_times\n"
     ]
    },
    {
     "name": "stdout",
     "output_type": "stream",
     "text": [
      "\n",
      "--------------------------------------------------------------------------------\n",
      "Batch Analysis\n",
      "--------------------------------------------------------------------------------\n"
     ]
    },
    {
     "name": "stderr",
     "output_type": "stream",
     "text": [
      "c:\\users\\mirjalal\\pycharmprojects\\start-time-estimator\\src\\estimate_start_times\\concurrency_oracle.py:64: SettingWithCopyWarning: \n",
      "A value is trying to be set on a copy of a slice from a DataFrame.\n",
      "Try using .loc[row_indexer,col_indexer] = value instead\n",
      "\n",
      "See the caveats in the documentation: https://pandas.pydata.org/pandas-docs/stable/user_guide/indexing.html#returning-a-view-versus-a-copy\n",
      "  event_log[self.log_ids.enabled_time] = pd.to_datetime(event_log[self.log_ids.enabled_time], utc=True)\n",
      "C:\\Users\\mirjalal\\PycharmProjects\\ava-core\\venv\\lib\\site-packages\\batch_processing_discovery\\discovery.py:89: FutureWarning: In a future version of pandas, a length 1 tuple will be returned when iterating over a groupby with a grouper equal to a list of length 1. Don't supply a list with a single grouper to avoid this warning.\n",
      "  for batch_id, batch_events in event_log[~pd.isna(event_log[log_ids.batch_id])].groupby([log_ids.batch_id]):\n"
     ]
    },
    {
     "name": "stdout",
     "output_type": "stream",
     "text": [
      "Elapsed time: 2.2119221687316895 seconds\n",
      "--------------------------------------------------------------------------------\n"
     ]
    },
    {
     "name": "stderr",
     "output_type": "stream",
     "text": [
      "C:\\Users\\mirjalal\\PycharmProjects\\ava-core\\venv\\lib\\site-packages\\wta\\helpers.py:259: FutureWarning: In a future version of pandas, a length 1 tuple will be returned when iterating over a groupby with a grouper equal to a list of length 1. Don't supply a list with a single grouper to avoid this warning.\n",
      "  for (batch_key, batch_instance) in batch_events.groupby([log_ids.batch_id]):\n",
      "c:\\users\\mirjalal\\pycharmprojects\\start-time-estimator\\src\\estimate_start_times\\concurrency_oracle.py:147: FutureWarning: In a future version of pandas, a length 1 tuple will be returned when iterating over a groupby with a grouper equal to a list of length 1. Don't supply a list with a single grouper to avoid this warning.\n",
      "  for (key, trace) in event_log.groupby([config.log_ids.case]):\n"
     ]
    },
    {
     "name": "stdout",
     "output_type": "stream",
     "text": [
      "\n",
      "--------------------------------------------------------------------------------\n",
      "Activity Transitions Analysis\n",
      "--------------------------------------------------------------------------------\n",
      "Parallel run: True\n"
     ]
    },
    {
     "name": "stderr",
     "output_type": "stream",
     "text": [
      "Submitting tasks for concurrent execution: 100%|██████████| 1000/1000 [00:21<00:00, 47.26it/s]\n",
      "Waiting for tasks to finish: 100%|██████████| 1000/1000 [00:00<00:00, 58569.85it/s]\n"
     ]
    },
    {
     "name": "stdout",
     "output_type": "stream",
     "text": [
      "Elapsed time: 105.57841229438782 seconds\n",
      "--------------------------------------------------------------------------------\n"
     ]
    }
   ],
   "source": [
    "logs_ids = wta.EventLogIDs(\n",
    "    start_time='start_time',\n",
    "    end_time='end_time',\n",
    "    case='case_id',\n",
    "    activity='Activity',\n",
    "    resource='Resource'\n",
    ")\n",
    "\n",
    "wt_analysis1 = run(log_path=Path('.\\data\\Loan_Application_Estonia.csv.gz'), log_ids=logs_ids)\n",
    "wt_analysis2 = run(log_path=Path('.\\data\\Loan_Application_Spain.csv.gz'), log_ids=logs_ids)\n",
    "wt_analysis = run(log_path=None, log=filtered_event_log, log_ids=logs_ids, group_results=False)"
   ],
   "metadata": {
    "collapsed": false
   }
  },
  {
   "cell_type": "code",
   "execution_count": 18,
   "outputs": [
    {
     "ename": "AttributeError",
     "evalue": "'DataFrame' object has no attribute 'num_transition_instances'",
     "output_type": "error",
     "traceback": [
      "\u001B[1;31m---------------------------------------------------------------------------\u001B[0m",
      "\u001B[1;31mAttributeError\u001B[0m                            Traceback (most recent call last)",
      "Cell \u001B[1;32mIn[18], line 2\u001B[0m\n\u001B[0;32m      1\u001B[0m waiting_time \u001B[38;5;241m=\u001B[39m {}\n\u001B[1;32m----> 2\u001B[0m total_transition_number \u001B[38;5;241m=\u001B[39m \u001B[43mwt_analysis1\u001B[49m\u001B[38;5;241;43m.\u001B[39;49m\u001B[43mnum_transition_instances\u001B[49m \u001B[38;5;241m+\u001B[39m wt_analysis2\u001B[38;5;241m.\u001B[39mnum_transition_instances\n\u001B[0;32m      4\u001B[0m waiting_time[\u001B[38;5;124m'\u001B[39m\u001B[38;5;124mtotal\u001B[39m\u001B[38;5;124m'\u001B[39m] \u001B[38;5;241m=\u001B[39m wt_analysis1\u001B[38;5;241m.\u001B[39mtotal_wt \u001B[38;5;241m+\u001B[39m wt_analysis2\u001B[38;5;241m.\u001B[39mtotal_wt\n\u001B[0;32m      5\u001B[0m waiting_time[\u001B[38;5;124m'\u001B[39m\u001B[38;5;124maverage\u001B[39m\u001B[38;5;124m'\u001B[39m] \u001B[38;5;241m=\u001B[39m waiting_time[\u001B[38;5;124m'\u001B[39m\u001B[38;5;124mtotal\u001B[39m\u001B[38;5;124m'\u001B[39m] \u001B[38;5;241m/\u001B[39m total_transition_number\n",
      "File \u001B[1;32m~\\PycharmProjects\\ava-core\\venv\\lib\\site-packages\\pandas-1.5.2-py3.9-win-amd64.egg\\pandas\\core\\generic.py:5902\u001B[0m, in \u001B[0;36mNDFrame.__getattr__\u001B[1;34m(self, name)\u001B[0m\n\u001B[0;32m   5895\u001B[0m \u001B[38;5;28;01mif\u001B[39;00m (\n\u001B[0;32m   5896\u001B[0m     name \u001B[38;5;129;01mnot\u001B[39;00m \u001B[38;5;129;01min\u001B[39;00m \u001B[38;5;28mself\u001B[39m\u001B[38;5;241m.\u001B[39m_internal_names_set\n\u001B[0;32m   5897\u001B[0m     \u001B[38;5;129;01mand\u001B[39;00m name \u001B[38;5;129;01mnot\u001B[39;00m \u001B[38;5;129;01min\u001B[39;00m \u001B[38;5;28mself\u001B[39m\u001B[38;5;241m.\u001B[39m_metadata\n\u001B[0;32m   5898\u001B[0m     \u001B[38;5;129;01mand\u001B[39;00m name \u001B[38;5;129;01mnot\u001B[39;00m \u001B[38;5;129;01min\u001B[39;00m \u001B[38;5;28mself\u001B[39m\u001B[38;5;241m.\u001B[39m_accessors\n\u001B[0;32m   5899\u001B[0m     \u001B[38;5;129;01mand\u001B[39;00m \u001B[38;5;28mself\u001B[39m\u001B[38;5;241m.\u001B[39m_info_axis\u001B[38;5;241m.\u001B[39m_can_hold_identifiers_and_holds_name(name)\n\u001B[0;32m   5900\u001B[0m ):\n\u001B[0;32m   5901\u001B[0m     \u001B[38;5;28;01mreturn\u001B[39;00m \u001B[38;5;28mself\u001B[39m[name]\n\u001B[1;32m-> 5902\u001B[0m \u001B[38;5;28;01mreturn\u001B[39;00m \u001B[38;5;28;43mobject\u001B[39;49m\u001B[38;5;241;43m.\u001B[39;49m\u001B[38;5;21;43m__getattribute__\u001B[39;49m\u001B[43m(\u001B[49m\u001B[38;5;28;43mself\u001B[39;49m\u001B[43m,\u001B[49m\u001B[43m \u001B[49m\u001B[43mname\u001B[49m\u001B[43m)\u001B[49m\n",
      "\u001B[1;31mAttributeError\u001B[0m: 'DataFrame' object has no attribute 'num_transition_instances'"
     ]
    }
   ],
   "source": [
    "waiting_time = {}\n",
    "total_transition_number = wt_analysis1.num_transition_instances + wt_analysis2.num_transition_instances\n",
    "\n",
    "waiting_time['total'] = wt_analysis1.total_wt + wt_analysis2.total_wt\n",
    "waiting_time['average'] = waiting_time['total'] / total_transition_number\n",
    "\n",
    "waiting_time['batching'] = wt_analysis1.total_batching_wt + wt_analysis2.total_batching_wt\n",
    "waiting_time['contention'] = wt_analysis1.total_contention_wt + wt_analysis2.total_contention_wt\n",
    "waiting_time['extraneous'] = wt_analysis1.total_extraneous_wt + wt_analysis2.total_extraneous_wt\n",
    "waiting_time['prioritization'] = wt_analysis1.total_prioritization_wt + wt_analysis2.total_prioritization_wt\n",
    "waiting_time['unavailability'] = wt_analysis1.total_unavailability_wt + wt_analysis2.total_unavailability_wt\n",
    "\n",
    "waiting_time['average_batching'] = waiting_time['batching'] / total_transition_number\n",
    "waiting_time['average_contention'] = waiting_time['contention'] / total_transition_number\n",
    "waiting_time['average_extraneous'] = waiting_time['extraneous'] / total_transition_number\n",
    "waiting_time['average_prioritization'] = waiting_time['prioritization'] / total_transition_number\n",
    "waiting_time['average_unavailability'] = waiting_time['unavailability'] / total_transition_number\n"
   ],
   "metadata": {
    "collapsed": false
   }
  },
  {
   "cell_type": "markdown",
   "metadata": {},
   "source": [
    "Working working"
   ]
  },
  {
   "cell_type": "code",
   "execution_count": null,
   "metadata": {},
   "outputs": [],
   "source": [
    "alphabet = 'ABCDEFGHIJKLMNOPQRSTUVWXYZ'\n",
    "count = 0\n",
    "unique_activities = {}\n",
    "all_traces = {}\n",
    "all_cycle_times = {}\n",
    "all_process_times = {}\n",
    "\n",
    "for cluster_id, cluster_events in merged_event_log.groupby(default_log_ids.cluster_id):\n",
    "    # Compare traces of both logs within the same cluster\n",
    "    unique_traces = {}\n",
    "    for source_id, events in cluster_events.groupby(default_log_ids.log_id):\n",
    "        traces = []\n",
    "        for case_id, activities in events.groupby(default_log_ids.case):\n",
    "            trace = \"\"\n",
    "            cycle_time = 0\n",
    "            cycle_time_end = 0\n",
    "            process_time = 0\n",
    "            for activity in activities.values:\n",
    "                if cycle_time == 0:\n",
    "                    cycle_time = activity[2]\n",
    "                cycle_time_end = activity[3]\n",
    "\n",
    "                process_time = activity[3] - activity[2]\n",
    "\n",
    "                if activity[1] not in all_process_times.keys():\n",
    "                    all_process_times[activity[1]] = {\n",
    "                        \"total_process_time\": process_time,\n",
    "                        \"count\": 1\n",
    "                    }\n",
    "                else:\n",
    "                    current_process_time = all_process_times[activity[1]]\n",
    "                    current_process_time[\"total_process_time\"] += process_time\n",
    "                    current_process_time[\"count\"] += 1\n",
    "                    all_process_times[activity[1]] = current_process_time\n",
    "\n",
    "                if activity[1] not in unique_activities.keys():\n",
    "                    unique_activities[activity[1]] = alphabet[count]\n",
    "                    count += 1\n",
    "                trace += unique_activities[activity[1]]\n",
    "            cycle_time = cycle_time_end - cycle_time\n",
    "\n",
    "            if trace not in all_cycle_times.keys():\n",
    "                all_cycle_times[trace] = {\n",
    "                    \"total_cycle_time\": cycle_time,\n",
    "                    \"total_process_time\": process_time,\n",
    "                    \"count\": 1\n",
    "                }\n",
    "            else:\n",
    "                current_cycle_time = all_cycle_times[trace]\n",
    "\n",
    "                current_cycle_time[\"total_cycle_time\"] += cycle_time\n",
    "                current_cycle_time[\"total_process_time\"] += process_time\n",
    "                current_cycle_time[\"count\"] += 1\n",
    "\n",
    "                all_cycle_times[trace] = current_cycle_time\n",
    "\n",
    "            if trace not in traces:\n",
    "                traces.append(trace)\n",
    "        unique_traces[source_id] = traces\n",
    "    all_traces[cluster_id] = unique_traces\n",
    "\n",
    "    arr = []\n",
    "\n",
    "    for key in unique_traces.keys():\n",
    "        for trace in unique_traces[key]:\n",
    "            temp_arr = []\n",
    "            for activity in trace:\n",
    "                temp_arr.append(alphabet.index(activity))\n",
    "            arr.append(temp_arr)\n",
    "\n"
   ]
  },
  {
   "cell_type": "code",
   "execution_count": 19,
   "metadata": {},
   "outputs": [
    {
     "name": "stdout",
     "output_type": "stream",
     "text": [
      "{'count': 2000, 'total_process_time': Timedelta('320 days 11:04:21.354000'), 'average_process_time': Timedelta('0 days 03:50:43.930677')}:  Check  application  form completeness\n"
     ]
    },
    {
     "ename": "TypeError",
     "evalue": "unhashable type: 'dict'",
     "output_type": "error",
     "traceback": [
      "\u001B[1;31m---------------------------------------------------------------------------\u001B[0m",
      "\u001B[1;31mTypeError\u001B[0m                                 Traceback (most recent call last)",
      "Cell \u001B[1;32mIn[19], line 4\u001B[0m\n\u001B[0;32m      2\u001B[0m \u001B[38;5;28;01mfor\u001B[39;00m key \u001B[38;5;129;01min\u001B[39;00m unique_activities\u001B[38;5;241m.\u001B[39mkeys():\n\u001B[0;32m      3\u001B[0m     \u001B[38;5;28mprint\u001B[39m(\u001B[38;5;124mf\u001B[39m\u001B[38;5;124m\"\u001B[39m\u001B[38;5;132;01m{\u001B[39;00munique_activities[key]\u001B[38;5;132;01m}\u001B[39;00m\u001B[38;5;124m: \u001B[39m\u001B[38;5;132;01m{\u001B[39;00mkey\u001B[38;5;132;01m}\u001B[39;00m\u001B[38;5;124m\"\u001B[39m)\n\u001B[1;32m----> 4\u001B[0m     \u001B[43munique_activities_mapping\u001B[49m\u001B[43m[\u001B[49m\u001B[43munique_activities\u001B[49m\u001B[43m[\u001B[49m\u001B[43mkey\u001B[49m\u001B[43m]\u001B[49m\u001B[43m]\u001B[49m \u001B[38;5;241m=\u001B[39m key\n",
      "\u001B[1;31mTypeError\u001B[0m: unhashable type: 'dict'"
     ]
    }
   ],
   "source": [
    "unique_activities_mapping = {}\n",
    "for key in unique_activities.keys():\n",
    "    print(f\"{unique_activities[key]}: {key}\")\n",
    "    unique_activities_mapping[unique_activities[key]] = key\n"
   ]
  },
  {
   "cell_type": "code",
   "execution_count": null,
   "metadata": {},
   "outputs": [],
   "source": [
    "for key in all_traces.keys():\n",
    "    print(f\"{int(key)}. cluster:\")\n",
    "    for source_id in all_traces[key]:\n",
    "        print(f\"{source_id}: {all_traces[key][source_id]}\")\n",
    "    print(\"--------------------\")\n",
    "\n"
   ]
  },
  {
   "cell_type": "code",
   "execution_count": null,
   "metadata": {},
   "outputs": [],
   "source": [
    "all_cycle_times_arr = []\n",
    "for trace in all_cycle_times.keys():\n",
    "    all_cycle_times_arr.append([\n",
    "        trace, all_cycle_times[trace]['total_cycle_time'], all_cycle_times[trace]['total_process_time'], all_cycle_times[trace]['count'], all_cycle_times[trace]['total_cycle_time']/all_cycle_times[trace]['count'], all_cycle_times[trace]['total_process_time']/all_cycle_times[trace]['count'], all_cycle_times[trace]['total_process_time']/all_cycle_times[trace]['total_cycle_time']\n",
    "    ])\n",
    "    print(f\"{trace}: \")\n",
    "    print(f\"Total Cycle Time: {all_cycle_times[trace]['total_cycle_time']}\")\n",
    "    print(f\"Total Process Time: {all_cycle_times[trace]['total_process_time']}\")\n",
    "    print(f\"Total number of traces: {all_cycle_times[trace]['count']}\")\n",
    "    print(f\"Average Cycle Time: {all_cycle_times[trace]['total_cycle_time']/all_cycle_times[trace]['count']}\")\n",
    "    print(f\"Average Process Time: {all_cycle_times[trace]['total_process_time']/all_cycle_times[trace]['count']}\")\n",
    "    print(f\"Cycle-time-efficiency: {all_cycle_times[trace]['total_process_time']/all_cycle_times[trace]['total_cycle_time']}\")\n",
    "    print(\"------------\")\n",
    "\n",
    "all_cycle_times_df = pd.DataFrame(\n",
    "    np.array(all_cycle_times_arr),\n",
    "    columns=['Variant', 'Total CT', 'Total PT', 'Frequency', 'Average CT', 'Average PT', 'CTE']\n",
    ")"
   ]
  },
  {
   "cell_type": "code",
   "execution_count": 159,
   "metadata": {},
   "outputs": [
    {
     "name": "stdout",
     "output_type": "stream",
     "text": [
      " Check  application  form completeness: \n",
      "Total Process Time: 320 days 11:04:21.354000\n",
      "Total number of activity: 2000\n",
      "Average Process Time: 0 days 03:50:43.930677\n",
      "------------\n",
      " AML Check: \n",
      "Total Process Time: 183 days 21:13:38.800000\n",
      "Total number of activity: 2000\n",
      "Average Process Time: 0 days 02:12:23.809400\n",
      "------------\n",
      " Assess loan risk: \n",
      "Total Process Time: 259 days 03:44:15.267000\n",
      "Total number of activity: 2000\n",
      "Average Process Time: 0 days 03:06:35.527633500\n",
      "------------\n",
      " Design loan offer: \n",
      "Total Process Time: 78 days 23:36:01.011000\n",
      "Total number of activity: 990\n",
      "Average Process Time: 0 days 01:54:53.091930303\n",
      "------------\n",
      " Approve Loan Offer: \n",
      "Total Process Time: 74 days 11:06:08.844000\n",
      "Total number of activity: 990\n",
      "Average Process Time: 0 days 01:48:18.554387878\n",
      "------------\n",
      " Prepare acceptance pack: \n",
      "Total Process Time: 0 days 00:00:00\n",
      "Total number of activity: 990\n",
      "Average Process Time: 0 days 00:00:00\n",
      "------------\n",
      " Prepare home insurance quote: \n",
      "Total Process Time: 115 days 03:36:21.757000\n",
      "Total number of activity: 990\n",
      "Average Process Time: 0 days 02:47:29.476522222\n",
      "------------\n",
      " Approve application: \n",
      "Total Process Time: 65 days 03:09:30.642000\n",
      "Total number of activity: 466\n",
      "Average Process Time: 0 days 03:21:15.902665236\n",
      "------------\n",
      " Reject application: \n",
      "Total Process Time: 127 days 19:29:06.598000\n",
      "Total number of activity: 1010\n",
      "Average Process Time: 0 days 03:02:13.610493069\n",
      "------------\n",
      " Cancel application: \n",
      "Total Process Time: 76 days 16:03:16.039000\n",
      "Total number of activity: 524\n",
      "Average Process Time: 0 days 03:30:41.595494274\n",
      "------------\n"
     ]
    }
   ],
   "source": [
    "all_process_times_arr = []\n",
    "for activity in all_process_times.keys():\n",
    "    all_process_times_arr.append([\n",
    "        activity, all_process_times[activity]['total_process_time'], all_process_times[activity]['count'], all_process_times[activity]['total_process_time']/all_process_times[activity]['count']\n",
    "    ])\n",
    "\n",
    "    print(f\"{activity}: \")\n",
    "    print(f\"Total Process Time: {all_process_times[activity]['total_process_time']}\")\n",
    "    print(f\"Total number of activity: {all_process_times[activity]['count']}\")\n",
    "    print(f\"Average Process Time: {all_process_times[activity]['total_process_time']/all_process_times[activity]['count']}\")\n",
    "    print(\"------------\")\n",
    "\n",
    "all_process_times_df = pd.DataFrame(\n",
    "    all_process_times_arr,\n",
    "    columns=['activity', 'Total PT', 'Frequency', 'Average PT']\n",
    ")"
   ]
  },
  {
   "cell_type": "code",
   "execution_count": 27,
   "outputs": [],
   "source": [
    "def find_by_source_and_target(report, source, target):\n",
    "    for transition in report:\n",
    "        if transition['source_activity'] == source and transition['target_activity'] == target:\n",
    "            return transition"
   ],
   "metadata": {
    "collapsed": false
   }
  },
  {
   "cell_type": "code",
   "execution_count": null,
   "outputs": [],
   "source": [],
   "metadata": {
    "collapsed": false
   }
  },
  {
   "cell_type": "code",
   "execution_count": 53,
   "metadata": {},
   "outputs": [],
   "source": [
    "from IPython.display import Image\n",
    "import pydot\n",
    "\n",
    "report = wt_analysis1.report\n",
    "\n",
    "trace = list(unique_traces.keys())[3]\n",
    "\n",
    "# Create the graph object\n",
    "avg_pt_wt_graph = pydot.Dot(graph_type='graph', rankdir='LR')\n",
    "total_pt_wt_graph = pydot.Dot(graph_type='graph', rankdir='LR')\n",
    "avg_freq_graph = pydot.Dot(graph_type='graph', rankdir='LR')\n",
    "total_freq_graph = pydot.Dot(graph_type='graph', rankdir='LR')\n",
    "\n",
    "nodes = {event: pydot.Node(event) for event in trace}\n",
    "\n",
    "for node in nodes.values():\n",
    "    avg_pt_wt_graph.add_node(node)\n",
    "\n",
    "for i in range(len(trace)-1):\n",
    "    transition = find_by_source_and_target(report, character_map[trace[i]], character_map[trace[i+1]])\n",
    "\n",
    "    avg_pt_wt_edge = pydot.Edge(nodes[trace[i]], nodes[trace[i+1]])\n",
    "    total_pt_wt_edge = pydot.Edge(nodes[trace[i]], nodes[trace[i+1]])\n",
    "    avg_freq_edge = pydot.Edge(nodes[trace[i]], nodes[trace[i+1]])\n",
    "    total_freq_edge = pydot.Edge(nodes[trace[i]], nodes[trace[i+1]])\n",
    "\n",
    "    avg_pt_wt_edge.set_dir('forward')\n",
    "    total_pt_wt_edge.set_dir('forward')\n",
    "    avg_freq_edge.set_dir('forward')\n",
    "    total_freq_edge.set_dir('forward')\n",
    "\n",
    "    avg_pt_wt_edge.set_label(f\"{round(transition['total_wt']/transition['total_freq'], 2)}\")\n",
    "    total_pt_wt_edge.set_label(f\"{round(transition['total_wt'], 2)}\")\n",
    "    avg_freq_edge.set_label(f\"{round(transition['case_freq'], 2)}\")\n",
    "    total_freq_edge.set_label(f\"{round(transition['total_freq'], 2)}\")\n",
    "\n",
    "    avg_pt_wt_graph.add_edge(avg_pt_wt_edge)\n",
    "    total_pt_wt_graph.add_edge(total_pt_wt_edge)\n",
    "    avg_freq_graph.add_edge(avg_freq_edge)\n",
    "    total_freq_graph.add_edge(total_freq_edge)\n",
    "\n"
   ]
  },
  {
   "cell_type": "code",
   "execution_count": 58,
   "outputs": [
    {
     "data": {
      "image/png": "[encoded data removed]",
      "text/plain": "<IPython.core.display.Image object>"
     },
     "execution_count": 58,
     "metadata": {},
     "output_type": "execute_result"
    }
   ],
   "source": [
    "Image(avg_pt_wt_graph.create_png())"
   ],
   "metadata": {
    "collapsed": false
   }
  },
  {
   "cell_type": "code",
   "execution_count": 59,
   "outputs": [
    {
     "data": {
      "image/png": "[encoded data removed]",
      "text/plain": "<IPython.core.display.Image object>"
     },
     "execution_count": 59,
     "metadata": {},
     "output_type": "execute_result"
    }
   ],
   "source": [
    "Image(total_pt_wt_graph.create_png())"
   ],
   "metadata": {
    "collapsed": false
   }
  },
  {
   "cell_type": "code",
   "execution_count": 60,
   "outputs": [
    {
     "data": {
      "image/png": "[encoded data removed]",
      "text/plain": "<IPython.core.display.Image object>"
     },
     "execution_count": 60,
     "metadata": {},
     "output_type": "execute_result"
    }
   ],
   "source": [
    "Image(avg_freq_graph.create_png())"
   ],
   "metadata": {
    "collapsed": false
   }
  },
  {
   "cell_type": "code",
   "execution_count": 61,
   "outputs": [
    {
     "data": {
      "image/png": "[encoded data removed]",
      "text/plain": "<IPython.core.display.Image object>"
     },
     "execution_count": 61,
     "metadata": {},
     "output_type": "execute_result"
    }
   ],
   "source": [
    "Image(total_freq_graph.create_png())"
   ],
   "metadata": {
    "collapsed": false
   }
  },
  {
   "cell_type": "code",
   "execution_count": null,
   "outputs": [],
   "source": [],
   "metadata": {
    "collapsed": false
   }
  }
 ],
 "metadata": {
  "kernelspec": {
   "display_name": "Python 3 (ipykernel)",
   "language": "python",
   "name": "python3"
  },
  "language_info": {
   "codemirror_mode": {
    "name": "ipython",
    "version": 3
   },
   "file_extension": ".py",
   "mimetype": "text/x-python",
   "name": "python",
   "nbconvert_exporter": "python",
   "pygments_lexer": "ipython3",
   "version": "3.9.5"
  }
 },
 "nbformat": 4,
 "nbformat_minor": 1
}
